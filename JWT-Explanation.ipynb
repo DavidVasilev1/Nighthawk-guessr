{
 "cells": [
  {
   "cell_type": "markdown",
   "metadata": {},
   "source": [
    "# JWT "
   ]
  },
  {
   "cell_type": "markdown",
   "metadata": {},
   "source": [
    "## File(Flask3): jwt_auth.py\n"
   ]
  },
  {
   "cell_type": "code",
   "execution_count": 1,
   "metadata": {},
   "outputs": [],
   "source": [
    "\n",
    "def token_required(f):\n",
    "   @wraps(f)\n",
    "   def decorator(*args, **kwargs):\n",
    "       token = None\n",
    "       # Grabs the cookie from request  headers\n",
    "       cookieString = request.headers.get('Cookie')\n",
    "       # loads the cookie into cookie object\n",
    "       if cookieString:\n",
    "           cookie = cookies.SimpleCookie()\n",
    "           cookie.load(cookieString)\n",
    "            # if token exist then it grabs the token from the cookie\n",
    "           if 'token' in cookie:\n",
    "               token = cookie['token'].value\n",
    "               print(token)\n",
    " \n",
    "        # if no token exits it shows a message saying valid token is missing \n",
    "       if not token:\n",
    "           return jsonify({'message': 'a valid token is missing'})\n",
    "        # this code tries to verify the signature of the token by decoding it.\n",
    "       try:\n",
    "           data = jwt.decode(token, current_app.config['SECRET_KEY'], algorithms=[\"HS256\"])\n",
    "           current_user = User.query.filter_by(username=data['name']).first()\n",
    "        # if signature is not valid or it is not able to decode it writes a message saying token is invalid. \n",
    "       except:\n",
    "           return jsonify({'message': 'token is invalid'})\n",
    "        # returns current user\n",
    "       return f(current_user, *args, **kwargs)\n",
    "       # returns the decorator\n",
    "   return decorator\n",
    "\n",
    "from flask import request\n",
    "@jwt_bp.route('/register', methods=['POST'])\n",
    "def register():\n",
    "    # Getting the request data as json\n",
    "    data = request.get_json()\n",
    "\n",
    "    # Checking if the required data (username, password) are present\n",
    "    if not data or not data.get('username') or not data.get('password'):\n",
    "        # If not, return a JSON response with a message and a 400 status code\n",
    "        return jsonify({'message': 'Username or password field is empty.'}), 400\n",
    "    # Querying the User table to check if a user with the provided username already exists\n",
    "    user = User.query.filter_by(username=data.get('username')).first()\n",
    "\n",
    "    # If a user is found, return a JSON response with a message and a 400 status code\n",
    "    if user:\n",
    "        return jsonify({'message': 'User already exists. Please Log in.'}), 400\n",
    "\n",
    "    # If a user was not found, the password is hashed using bcrypt\n",
    "    hashed_password = bcrypt.hashpw(data.get('password').encode('utf-8'), bcrypt.gensalt()).decode('utf-8')  # ensure the hashed password is in string format\n",
    "    # A new User object is created with the provided username and hashed password\n",
    "    new_user = User(username=data.get('username'), password=hashed_password)\n",
    "    # The new User object is added to the db session\n",
    "    db.session.add(new_user)\n",
    "    # The db session is committed to save the changes\n",
    "    db.session.commit()\n",
    "    # A JSON response is returned with a message and a 201 status code\n",
    "    return jsonify({'message': 'New user created!'}), 201\n",
    "\n",
    "@jwt_bp.route('/login', methods=['POST'])\n",
    "def login():\n",
    "    # get the username and password from the request\n",
    "    data = request.get_json()\n",
    "    username = data.get('username')\n",
    "    password = data.get('password')\n",
    "\n",
    "    # authenticate the user, for example by checking the username and password against a database\n",
    "    user = User.query.filter_by(username=username).first()\n",
    "\n",
    "    # if the user doesn't exist or the password is wrong, return an error\n",
    "    if user is None or not user.check_password(password):\n",
    "        return jsonify({'message': 'Invalid username or password'}), 400\n",
    "\n",
    "    # if the user is authenticated, create a JWT token for them\n",
    "    token = jwt.encode(payload= {'name': user.username}, key=current_app.config['SECRET_KEY'], algorithm=\"HS256\")\n",
    "    print(\"Token:\", token)\n",
    "\n",
    "    # set the JWT token in a secure HTTP-only cookie in the response\n",
    "    response = make_response(jsonify({'message': 'Logged in'}), 200)\n",
    "    response.set_cookie('token', token, secure=False, samesite='Lax', path='/')\n",
    "    \n",
    "    print(response.headers)\n",
    "    return response\n",
    "    "
   ]
  },
  {
   "cell_type": "markdown",
   "metadata": {},
   "source": [
    "### Overall Explanation\n",
    "\n",
    "Verification of JWTs: JWTs are not only created in this file, but are also verified here. The token_required decorator function uses the jwt.decode method to verify the token's signature and extract its payload, ensuring it was issued by this application and hasn't been tampered with. This method provides a secure way of knowing if a request comes from an authenticated user.\n",
    "\n",
    "Token-based access control: The token_required decorator is used to protect routes that should only be accessible to authenticated users. When applied to a route, it first checks for the presence of a JWT. If the token is missing or invalid, the request is rejected, ensuring that only authenticated users can access protected resources.\n",
    "\n",
    "Managing session state: The JWT is stored in a cookie, which is set in the user's browser when they log in. This way, the server does not need to maintain session state between requests.\n",
    "\n",
    "In summary, this file plays a central role in handling the JWT lifecycle, from creation to verification. It also ensures that only authenticated users can access specific routes in the application. \n",
    "\n",
    "<br>\n",
    "<br>\n",
    "<br>\n",
    "<br>\n",
    "<br>\n",
    "<br>\n",
    "\n",
    "\n",
    "### Explanation of Code Parts In detail\n",
    "\n",
    "#### token_required decorator function:\n",
    "\n",
    "The token_required decorator function is designed to ensure that the user is authenticated before they can access certain routes. Here's what each part does:\n",
    "\n",
    "The decorator function @wraps(f) preserves information about the decorated function f that might be needed later for introspection.\n",
    "\n",
    "token = None initializes a token variable as None before trying to extract the token from the cookie.\n",
    "\n",
    "The code then attempts to extract the token value from the Cookie header in the incoming HTTP request. It first loads the Cookie string into a SimpleCookie object, then checks if a token key exists, if so, it sets the token variable to the token's value.\n",
    "\n",
    "If no token value could be found, the function returns a JSON response indicating that a valid token is missing.\n",
    "\n",
    "The function then tries to decode the token using the SECRET_KEY set in the application configuration. If the token is invalid (it can't be decoded, or its signature doesn't match), it returns a JSON response indicating that the token is invalid.\n",
    "\n",
    "If the token is successfully decoded, the data variable contains the payload of the token, and current_user is set to the user object that corresponds to the username in the payload.\n",
    "\n",
    "The decorator finally returns the decorated function f, and passes along the current_user and any additional arguments.\n",
    "\n",
    "#### /register route:\n",
    "\n",
    "This route allows new users to register. Here's what it does:\n",
    "\n",
    "It first retrieves the JSON data from the request.\n",
    "\n",
    "It checks if the username and password fields are present in the request data. If not, it returns a 400 response indicating that the fields are missing.\n",
    "\n",
    "It then checks if a user with the provided username already exists in the database. If such a user exists, it returns a 400 response indicating that the user already exists.\n",
    "\n",
    "If the username is not taken, it hashes the provided password using bcrypt, and creates a new User object with the provided username and hashed password.\n",
    "\n",
    "It then adds the new user to the database and commits the changes.\n",
    "\n",
    "Finally, it returns a 201 response indicating that the new user was successfully created.\n",
    "\n",
    "#### /login route:\n",
    "\n",
    "This route allows existing users to log in. Here's what it does:\n",
    "\n",
    "It first retrieves the username and password from the JSON data in the request.\n",
    "\n",
    "It then tries to retrieve the User object that corresponds to the provided username from the database. If no such user exists, or if the provided password doesn't match the stored password for the user, it returns a 400 response indicating that the login credentials are invalid.\n",
    "\n",
    "If the user is authenticated, it creates a JWT token for them. The token's payload contains the user's username, and it's encoded using the SECRET_KEY set in the application configuration.\n",
    "\n",
    "It then creates a response indicating that the login was successful, and sets a cookie in the response with the name token and the value of the JWT token.\n",
    "\n",
    "Finally, it returns the response to the client.\n",
    "\n",
    "\n",
    "\n"
   ]
  },
  {
   "cell_type": "markdown",
   "metadata": {},
   "source": [
    "## File(Flask3): User.py"
   ]
  },
  {
   "cell_type": "code",
   "execution_count": 2,
   "metadata": {},
   "outputs": [],
   "source": [
    "from flask_sqlalchemy import SQLAlchemy\n",
    "from flask_login import UserMixin\n",
    "import bcrypt \n",
    "\n",
    "db = SQLAlchemy()\n",
    "\n",
    "# database\n",
    "class User(db.Model, UserMixin):\n",
    "    id = db.Column(db.Integer, primary_key=True)\n",
    "    username = db.Column(db.String(20), nullable=False, unique=True)\n",
    "    password = db.Column(db.String(80), nullable=False)\n",
    "\n",
    "# The check_password function is a method of the User class. \n",
    "    def check_password(self, password):\n",
    "        return bcrypt.checkpw(password.encode('utf-8'), self.password.encode('utf-8'))"
   ]
  },
  {
   "cell_type": "markdown",
   "metadata": {},
   "source": [
    "### Explanation\n",
    "\n",
    "This is very simple and all it does is create rows and outline of the database, the def checkpassword function is used to verify if the provided password matches the hashed password stored in the database."
   ]
  },
  {
   "cell_type": "markdown",
   "metadata": {},
   "source": [
    "## File(Flask3): Forms.py"
   ]
  },
  {
   "cell_type": "code",
   "execution_count": null,
   "metadata": {},
   "outputs": [],
   "source": [
    "from flask_wtf import FlaskForm\n",
    "from wtforms import StringField, PasswordField, SubmitField\n",
    "from wtforms.validators import DataRequired, Length, EqualTo\n",
    "\n",
    "# Defining a form for registration\n",
    "class RegisterForm(FlaskForm):\n",
    "    # A StringField for the username with validators that ensure the field is filled and the length is between 4 and 20 characters\n",
    "    username = StringField('Username', validators=[DataRequired(), Length(min=4, max=20)])\n",
    "    # A PasswordField for the password with a validator that ensures the field is filled\n",
    "    password = PasswordField('Password', validators=[DataRequired()])\n",
    "    # A PasswordField for the password confirmation with validators that ensure the field is filled and the field is equal to the 'password' field\n",
    "    confirm_password = PasswordField('Confirm Password', validators=[DataRequired(), EqualTo('password')])\n",
    "    submit = SubmitField('Sign Up')\n",
    "\n",
    "# This is for the login\n",
    "class LoginForm(FlaskForm):\n",
    "    # A StringField for the username with validators that ensure the field is filled and the length is between 4 and 20 characters\n",
    "    username = StringField('Username', validators=[DataRequired(), Length(min=4, max=20)])\n",
    "    # A PasswordField for the password with a validator that ensures the field is filled\n",
    "    password = PasswordField('Password', validators=[DataRequired()])\n",
    "    submit = SubmitField('Login')"
   ]
  },
  {
   "cell_type": "markdown",
   "metadata": {},
   "source": [
    "### Explanation In part of JWT\n",
    "\n",
    "In the context of JWT authentication with cookie-based login and registration, these forms don't directly handle JWT tokens or cookies. They are primarily concerned with receiving and validating data that a user submits through the login or registration form. Once the form data is validated, the application's authentication logic can use the validated data to generate a JWT token, store it in a cookie, and send it to the client as part of the authentication process."
   ]
  },
  {
   "cell_type": "markdown",
   "metadata": {},
   "source": [
    "## File(Flask3): Main.py"
   ]
  },
  {
   "cell_type": "code",
   "execution_count": null,
   "metadata": {},
   "outputs": [],
   "source": [
    "from flask import render_template\n",
    "from flask_cors import CORS\n",
    "from flask_migrate import Migrate  # New Import\n",
    "from flask import render_template, url_for\n",
    "from nighthawkguessr_api import app, db, project_path\n",
    "from pathlib import Path\n",
    "from nighthawkguessr_api.api.todo import todo_bp\n",
    "from flask import send_from_directory\n",
    "from nighthawkguessr_api.model.images import initEasyImages\n",
    "\n",
    "from nighthawkguessr_api.api.leaderboard import leaderboard_bp\n",
    "from nighthawkguessr_api.model.leaderboards import init_leaderboards\n",
    "from nighthawkguessr_api.api.leaderboard import leaderboard_bp\n",
    "from nighthawkguessr_api.api.images import images_bp\n",
    "from nighthawkguessr_api.api.jwt_auth import jwt_bp\n",
    "from nighthawkguessr_api.api.pass_api import pass_api, getPassAPI\n",
    "\n",
    "migrate = Migrate(app, db)  # New Line\n",
    "\n",
    "app.register_blueprint(todo_bp)\n",
    "app.register_blueprint(leaderboard_bp)\n",
    "app.register_blueprint(images_bp)\n",
    "app.register_blueprint(jwt_bp)\n",
    "app.register_blueprint(pass_api)\n",
    "\n",
    "@app.before_first_request\n",
    "def init_db():\n",
    "    with app.app_context():\n",
    "        db.create_all()\n",
    "        initEasyImages()\n",
    "        init_leaderboards()\n",
    "\n",
    "@app.route('/')\n",
    "def index():\n",
    "    return render_template('index.html')\n",
    "\n",
    "# app.add_url_rule('/photos/<path:filename>', endpoint='photos', view_func=app.send_static_file)\n",
    "# @app.route('/')\n",
    "# def photo():\n",
    "#     image_dir = Path.cwd()/\"images/easy\"\n",
    "#     images_paths = [i.posix() for i in image_dir.iterdir()]\n",
    "#     images = [Images(\"/image/easy/\" + image, 250, 250, 1) for image in images_paths]\n",
    "#     return render_template('photo1.html')\n",
    "\n",
    "# @app.route('/')\n",
    "# def capture_image(self):\n",
    "#     self.cam = cv2.VideoCapture(0)\n",
    "#     self.img = self.cam.read()\n",
    "#     self.cam.release()\n",
    "#     render_template(index.html,ob=self.img)\n",
    "\n",
    "\n",
    "@app.route('/static/images/easy/<path:path>')\n",
    "def send_report(path):\n",
    "    full_filename = project_path.as_posix() + path\n",
    "    # url_for('static', filename=f'images/easy/{path}')\n",
    "    return render_template(\"image_template.html\", user_image=path)\n",
    "\n",
    "\n",
    "if __name__ == \"__main__\":\n",
    "    cors = CORS(app, resources={r\"*\": {\"origins\": \"*\"}}, supports_credentials=True)\n",
    "    app.config[\"SQLALCHEMY_DATABASE_URI\"] = \"sqlite:///./volumes/sqlite.db\"\n",
    "    app.run(debug=True, host=\"0.0.0.0\", port=\"8200\")\n",
    "\n"
   ]
  },
  {
   "cell_type": "markdown",
   "metadata": {},
   "source": [
    "### Explanation In Part of JWT\n",
    "\n",
    "This is the main entry point of my Flask application. I am setting up my application and its routes. The login and register routes are crucial to JWT authentication. These endpoints receive the Information from the frontend, validate the data, and if valid, issue a JWT."
   ]
  },
  {
   "cell_type": "markdown",
   "metadata": {},
   "source": [
    "<br>\n",
    "<br>\n",
    "<br>\n",
    "<br>\n",
    "<br>\n",
    "<br>\n",
    "<br>\n",
    "<br>\n",
    "<br>\n",
    "<br>\n",
    "\n",
    "# Frontend"
   ]
  },
  {
   "cell_type": "markdown",
   "metadata": {},
   "source": [
    "## File(Nighthawk-guessr): login.html"
   ]
  },
  {
   "cell_type": "markdown",
   "metadata": {},
   "source": [
    "### Role In JWT\n",
    "\n",
    "Form Submission and Data Collection: Just like in register.html, the form's submit event is intercepted, the page reload action is prevented, and the entered username and password are collected.\n",
    "\n",
    "POST Request to the Backend: A POST request is then sent to the '/login' endpoint of the backend API with the username and password.\n",
    "\n",
    "User Authentication: The backend verifies the provided credentials. If the username exists and the provided password matches the one stored in the database (after being hashed), the user is considered authenticated.\n",
    "\n",
    "JWT Creation: On successful authentication, the backend generates a JWT that encodes user information. This token is then sent back to the client in the response.\n",
    "\n",
    "Response Handling: If the authentication is successful, the backend sets the JWT as a cookie in the user's browser. Then, the user is redirected to index.html."
   ]
  },
  {
   "cell_type": "markdown",
   "metadata": {},
   "source": [
    "## File(Nighthawk-guessr): register.html"
   ]
  },
  {
   "cell_type": "markdown",
   "metadata": {},
   "source": [
    "### Role In JWT\n",
    "\n",
    "Form Submission and Data Collection: When the form is submitted, an event listener attached to the form intercepts the submit event and prevents the default form submission action that reloads the page. It then collects the username and password values entered by the user.\n",
    "\n",
    "POST Request to the Backend: After the data has been collected, it sends a POST request to the '/register' endpoint of the backend API. The request contains the username and password in the request body.\n",
    "\n",
    "User Creation: On the backend, a new user record is created with the username and password. The password is typically hashed for security reasons before it's stored in the database.\n",
    "\n",
    "Response Handling: After the backend processes the request, it sends back a response which is handled in the frontend. If the user registration is successful (i.e., response status is in the 200-299 range), the user is redirected to the login.html page. If an error occurs (e.g., username already exists), an alert message with the error is displayed to the user."
   ]
  },
  {
   "cell_type": "markdown",
   "metadata": {},
   "source": [
    "# Overall Baisc Explanation of Flow:"
   ]
  },
  {
   "cell_type": "markdown",
   "metadata": {},
   "source": [
    "The flow of using JWT for authentication in this application works like this:\n",
    "\n",
    "User Registration: When a new user tries to register using the register.html page, they fill in their username and password and submit the form. The form data is sent to the /register endpoint in the backend server (main.py) as a POST request, where the user data is processed and stored.\n",
    "\n",
    "User Login: The user can then login with their username and password on the login.html page. This data is again sent as a POST request, but this time to the /login endpoint in my Flask backend.\n",
    "\n",
    "In the /login route in main.py, the user's credentials are verified. If they're valid, a new JWT token is created by calling the decoding function in the jwt_auth.py module. \n",
    "\n",
    "The newly created JWT token is then sent back to the frontend in the form of a cookie. The set_cookie function from the flask module is used to achieve this. This token cookie will be sent with each subsequent request to the server.\n",
    "\n",
    "The index.html page checks for the presence of the token cookie on page load. If the cookie doesn't exist, it redirects the user to the login.html page. If the cookie does exist, it means the user has already logged in, and they're allowed to stay on the index.html page.\n",
    "\n",
    "When the user wants to access protected routes/resources on the site, the server needs to verify their identity. It does this by checking the token cookie that's sent with each request. The token is decoded using the decode_auth_token function in the jwt_auth.py module.\n",
    "\n",
    "If the token is valid and hasn't expired, the user is granted access to the requested resources. If not, they're given an appropriate error message (unauthorized access, token expired, etc.)\n",
    "\n"
   ]
  },
  {
   "cell_type": "markdown",
   "metadata": {},
   "source": [
    "# Issue That I think is happening\n",
    "\n",
    "I think the issue is something with the CORS, or maybe it running on a http connection, i'm not sure but it is something around that I think."
   ]
  }
 ],
 "metadata": {
  "kernelspec": {
   "display_name": "Python 3.9.12 ('base')",
   "language": "python",
   "name": "python3"
  },
  "language_info": {
   "codemirror_mode": {
    "name": "ipython",
    "version": 3
   },
   "file_extension": ".py",
   "mimetype": "text/x-python",
   "name": "python",
   "nbconvert_exporter": "python",
   "pygments_lexer": "ipython3",
   "version": "3.9.12"
  },
  "orig_nbformat": 4,
  "vscode": {
   "interpreter": {
    "hash": "b39cc0b7d7b7baa8a40a102196f269dabc963c0136c1c82ab9b0b53a6e35bbf2"
   }
  }
 },
 "nbformat": 4,
 "nbformat_minor": 2
}
